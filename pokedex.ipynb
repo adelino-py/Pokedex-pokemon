{
 "cells": [
  {
   "cell_type": "code",
   "execution_count": null,
   "metadata": {},
   "outputs": [],
   "source": [
    "# Importação das bibliotecas utilizadas\n",
    "import pandas as pd\n",
    "import requests\n",
    "import json\n",
    "import csv"
   ]
  },
  {
   "cell_type": "code",
   "execution_count": null,
   "metadata": {},
   "outputs": [],
   "source": [
    "# Faz a requisição dos 151 primeiros Pokemons para a API e salva em uma lista de dicionários\n",
    "API_URL = \"https://pokeapi.co/api/v2/pokemon/{}\"\n",
    "pokemon_list = []\n",
    "for pokemon_id in range(1, 152):\n",
    "    pokemon_req = requests.get(API_URL.format(pokemon_id))\n",
    "    pokemon_json = pokemon_req.json()\n",
    "    pokemon_list.append(pokemon_json)"
   ]
  },
  {
   "cell_type": "code",
   "execution_count": null,
   "metadata": {},
   "outputs": [],
   "source": [
    "# Limpa a lista para manter apenas as informações relevantes pro csv\n",
    "clean_pokemon_list = []\n",
    "for pokemon in pokemon_list:\n",
    "  pokemon_dict = {'id': pokemon['id'],\n",
    "  'name': pokemon['name'],\n",
    "  'main_type': pokemon['types'][0]['type']['name'],\n",
    "  'first_ability': pokemon['abilities'][0]['ability']['name'],\n",
    "  'height': pokemon['height'],\n",
    "  'weight': pokemon['weight'],\n",
    "  'hp': pokemon['stats'][0]['base_stat'],\n",
    "  'attack': pokemon['stats'][1]['base_stat'],\n",
    "  'defense': pokemon['stats'][2]['base_stat'],\n",
    "  'special_attack': pokemon['stats'][3]['base_stat'],\n",
    "  'special_defense': pokemon['stats'][4]['base_stat'],\n",
    "  'speed': pokemon['stats'][5]['base_stat'],\n",
    "  'sprite': pokemon['sprites']['front_default']}\n",
    "  clean_pokemon_list.append(pokemon_dict)"
   ]
  },
  {
   "cell_type": "code",
   "execution_count": null,
   "metadata": {},
   "outputs": [],
   "source": [
    "# Converte para CSV\n",
    "with open('pokedex.csv', 'w', encoding='utf8', newline='') as pokedex:\n",
    "  file = csv.DictWriter(pokedex, fieldnames=clean_pokemon_list[0].keys())\n",
    "  file.writeheader()\n",
    "  file.writerows(clean_pokemon_list)"
   ]
  }
 ],
 "metadata": {
  "language_info": {
   "name": "python"
  },
  "orig_nbformat": 4
 },
 "nbformat": 4,
 "nbformat_minor": 2
}
